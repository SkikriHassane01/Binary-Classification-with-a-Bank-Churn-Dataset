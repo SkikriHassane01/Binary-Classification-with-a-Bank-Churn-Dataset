{
 "cells": [
  {
   "cell_type": "markdown",
   "id": "2ce00dee",
   "metadata": {
    "papermill": {
     "duration": 0.011319,
     "end_time": "2024-03-20T18:08:01.401589",
     "exception": false,
     "start_time": "2024-03-20T18:08:01.390270",
     "status": "completed"
    },
    "tags": []
   },
   "source": [
    "\n",
    "\n",
    "<div style =\"font-family:Trebuchet MS; background-color : #f8f0fa; border-left: 5px solid #1b4332; padding: 12px\">\n",
    "    <h2 style=\"color: #1b4332; font-size: 48px; text-align: center;\"><b>Binary Classification with a Bank Churn Dataset V2</b></h2>\n",
    "    <hr style=\"border-top: 2px solid #264653;\">\n",
    "    <h3 style=\"font-size: 14px; color: #264653; text-align: right; \"><strong>Created By: Hassane Skikri 😊🌟</strong></h3>\n",
    "    <h2></h2>\n",
    "</div>"
   ]
  },
  {
   "cell_type": "markdown",
   "id": "a68b4f36",
   "metadata": {
    "execution": {
     "iopub.execute_input": "2024-01-20T23:14:17.928601Z",
     "iopub.status.busy": "2024-01-20T23:14:17.928123Z",
     "iopub.status.idle": "2024-01-20T23:14:17.937449Z",
     "shell.execute_reply": "2024-01-20T23:14:17.935530Z",
     "shell.execute_reply.started": "2024-01-20T23:14:17.928565Z"
    },
    "papermill": {
     "duration": 0.010669,
     "end_time": "2024-03-20T18:08:01.423350",
     "exception": false,
     "start_time": "2024-03-20T18:08:01.412681",
     "status": "completed"
    },
    "tags": []
   },
   "source": [
    "<p style=\"background-color: #12f7ff; font-family: 'Trebuchet MS', sans-serif; color: #000; font-size: 150%; text-align: center; border-radius: 50px 15px; padding: 10px; box-shadow: 0 4px 8px 0 rgba(0, 0, 0, 0.2), 0 6px 20px 0 rgba(0, 0, 0, 0.19);\">\n",
    "    🔻📋 Outline🔻\n",
    "</p>\n"
   ]
  },
  {
   "cell_type": "markdown",
   "id": "4122feb4",
   "metadata": {
    "papermill": {
     "duration": 0.010757,
     "end_time": "2024-03-20T18:08:01.445371",
     "exception": false,
     "start_time": "2024-03-20T18:08:01.434614",
     "status": "completed"
    },
    "tags": []
   },
   "source": [
    "* [Introduction](#1)\n",
    "* [📚 Import Libraries](#2)\n",
    "* [📖 Lead Dataset](#3)\n",
    "* [Data Cleaning](#4)\n",
    "    * [Removing unnecessary columns](#4.1)\n",
    "    * [Merging two datasets](#4.2)\n",
    "    * [Missing Values](#4.3)\n",
    "    * [Duplicates](#4.4)\n",
    "* [EDA](#5)\n",
    "    * [Correlation](#5.1)\n",
    "    * [Feature Engineering](#5.2)\n",
    "* [🖇🖇📭Data Pipeline](#7)\n",
    "    * [Creating X and y](#7.1)\n",
    "    * [Main Pipeline](#7.3)\n",
    "* [⚙️Finding and Training Models With Best Hyperparameters](#8)\n",
    "    * [Random Forest Classifier](#8.1)\n",
    "    * [Cat Boost Classifier](#8.2)\n",
    "    * [LGBM LIGHT](#8.3)\n",
    "    * [XGBoost Classifier](#8.4)\n",
    "* [👀👁Final Model With Voting](#9)\n",
    "* [📊Generate Predictions and Create Submission File](#10)\n"
   ]
  },
  {
   "cell_type": "code",
   "execution_count": 5,
   "id": "ec8306a9",
   "metadata": {
    "execution": {
     "iopub.execute_input": "2024-03-20T18:08:01.469403Z",
     "iopub.status.busy": "2024-03-20T18:08:01.468994Z",
     "iopub.status.idle": "2024-03-20T18:08:01.481959Z",
     "shell.execute_reply": "2024-03-20T18:08:01.481005Z"
    },
    "papermill": {
     "duration": 0.027268,
     "end_time": "2024-03-20T18:08:01.483941",
     "exception": false,
     "start_time": "2024-03-20T18:08:01.456673",
     "status": "completed"
    },
    "tags": []
   },
   "outputs": [
    {
     "data": {
      "text/html": [
       "<style>\n",
       "    .custom-md {\n",
       "    font-family: 'Georgia', serif; /* Georgia font */\n",
       "    font-size: 18px;\n",
       "    line-height: 1.7;\n",
       "    }\n",
       "</style>\n"
      ],
      "text/plain": [
       "<IPython.core.display.HTML object>"
      ]
     },
     "metadata": {},
     "output_type": "display_data"
    }
   ],
   "source": [
    "%%html\n",
    "<style>\n",
    "    .custom-md {\n",
    "    font-family: 'Georgia', serif; /* Georgia font */\n",
    "    font-size: 18px;\n",
    "    line-height: 1.7;\n",
    "    }\n",
    "</style>"
   ]
  },
  {
   "cell_type": "markdown",
   "id": "38bb34c4",
   "metadata": {
    "papermill": {
     "duration": 0.011499,
     "end_time": "2024-03-20T18:08:01.507227",
     "exception": false,
     "start_time": "2024-03-20T18:08:01.495728",
     "status": "completed"
    },
    "tags": []
   },
   "source": [
    "<h1 style=\"background-color: #12f7ff; font-family: 'Trebuchet MS', sans-serif; color: #000; font-size: 150%; text-align: center; border-radius: 50px 15px; padding: 10px; box-shadow: 0 4px 8px 0 rgba(0, 0, 0, 0.2), 0 6px 20px 0 rgba(0, 0, 0, 0.19);\">\n",
    "    🔻Introduction🔻</h1>\n",
    "\n",
    "\n",
    "This notebook aims to analyze customer churn data to identify key factors that contribute to customer attrition.he dataset includes customer information such as demographics, account details, and whether or not they have churned\n",
    "<h3>    \n",
    "<center> why do customers churn? </center>\n",
    "</h3>\n",
    "\n",
    "some common reasons:\n",
    "\n",
    "- Poor Customer Service: One of the primary reasons for customer churn is poor customer service. If customers feel they are not receiving prompt, respectful, or helpful service, they are more likely to leave.\n",
    "\n",
    "- Lack of Customization and Personalization: Customers often seek services that cater to their specific needs. If a financial institution fails to offer personalized and relevant services, customers might find a competitor who does.\n",
    "\n",
    "- High Fees or Rates: Competitive pricing is key in retaining customers. High fees for services or higher interest rates on products compared to competitors can drive customers away.\n",
    "\n",
    "- Ease of Account Closure: In the banking sector, if it's easy for customers to close their accounts and switch to another bank, they might be more inclined to churn, especially if they encounter issues with their current bank.\n",
    "    \n",
    "#### our dataset containe :\n",
    "\n",
    "| Column Name      | Description |\n",
    "|------------------|-------------|\n",
    "| Surname          | Customer's surname (not typically useful for prediction). |\n",
    "| CreditScore      | Customer's credit score. |\n",
    "| Geography        | Customer's country of residence. |\n",
    "| Gender           | Customer's gender. |\n",
    "| Age              | Customer's age. |\n",
    "| Tenure           | Number of years the customer has been with the bank. |\n",
    "| Balance          | Customer's bank balance. |\n",
    "| NumOfProducts    | Number of products the customer has with the bank. |\n",
    "| HasCrCard        | Indicates whether the customer has a credit card (1) or not (0). |\n",
    "| IsActiveMember   | Indicates whether the customer is an active member (1) or not (0). |\n",
    "| EstimatedSalary  | Customer's estimated salary. |\n",
    "| Exited           | Whether the customer has Exited   (1) or not (0) - the target variable. |"
   ]
  },
  {
   "cell_type": "markdown",
   "id": "c368fc95",
   "metadata": {
    "papermill": {
     "duration": 0.010699,
     "end_time": "2024-03-20T18:08:01.528926",
     "exception": false,
     "start_time": "2024-03-20T18:08:01.518227",
     "status": "completed"
    },
    "tags": []
   },
   "source": [
    "\n",
    "<h2 style=\"background-color: #12f7ff; font-family: 'Trebuchet MS', sans-serif; color: #000; font-size: 150%; text-align: center; border-radius: 50px 15px; padding: 10px; box-shadow: 0 4px 8px 0 rgba(0, 0, 0, 0.2), 0 6px 20px 0 rgba(0, 0, 0, 0.19);\">\n",
    "    ⬇️📚Importing libraries⬇️</h2>"
   ]
  },
  {
   "cell_type": "code",
   "execution_count": 6,
   "id": "4f0ff351",
   "metadata": {
    "_cell_guid": "b1076dfc-b9ad-4769-8c92-a6c4dae69d19",
    "_uuid": "8f2839f25d086af736a60e9eeb907d3b93b6e0e5",
    "execution": {
     "iopub.execute_input": "2024-03-20T18:08:01.553034Z",
     "iopub.status.busy": "2024-03-20T18:08:01.552371Z",
     "iopub.status.idle": "2024-03-20T18:08:07.289835Z",
     "shell.execute_reply": "2024-03-20T18:08:07.288489Z"
    },
    "papermill": {
     "duration": 5.75235,
     "end_time": "2024-03-20T18:08:07.292257",
     "exception": false,
     "start_time": "2024-03-20T18:08:01.539907",
     "status": "completed"
    },
    "tags": []
   },
   "outputs": [
    {
     "name": "stdout",
     "output_type": "stream",
     "text": [
      "setep completed\n"
     ]
    }
   ],
   "source": [
    "#Basic liberaries\n",
    "import numpy as np\n",
    "import pandas as pd \n",
    "import matplotlib.pyplot as plt\n",
    "import seaborn as sns\n",
    "\n",
    "#imputaion for replacing the missing calues with values of our choice like mean median etc..\n",
    "from sklearn.impute import SimpleImputer\n",
    "\n",
    "#models\n",
    "from lightgbm import LGBMClassifier\n",
    "from catboost import CatBoostClassifier\n",
    "from xgboost import XGBClassifier\n",
    "from sklearn.ensemble import RandomForestClassifier\n",
    "\n",
    "#for optimization\n",
    "import optuna\n",
    "\n",
    "from sklearn.metrics import roc_auc_score,accuracy_score\n",
    "\n",
    "from sklearn.pipeline import Pipeline\n",
    "\n",
    "#for data transformation\n",
    "from sklearn.preprocessing import StandardScaler, MinMaxScaler, RobustScaler, OneHotEncoder, LabelEncoder\n",
    "from sklearn.compose import ColumnTransformer\n",
    "\n",
    "#data spliting\n",
    "from sklearn.model_selection import train_test_split\n",
    "\n",
    "from sklearn.ensemble import VotingClassifier\n",
    "#to ignore the marnings\n",
    "import warnings\n",
    "warnings.filterwarnings('ignore')\n",
    "\n",
    "#to display all columns\n",
    "pd.set_option('display.max_columns',None)\n",
    "print(\"setep completed\")"
   ]
  },
  {
   "cell_type": "markdown",
   "id": "21275709",
   "metadata": {
    "papermill": {
     "duration": 0.01103,
     "end_time": "2024-03-20T18:08:07.314794",
     "exception": false,
     "start_time": "2024-03-20T18:08:07.303764",
     "status": "completed"
    },
    "tags": []
   },
   "source": [
    "\n",
    "<h1 style=\"background-color: #12f7ff; font-family: 'Trebuchet MS', sans-serif; color: #000; font-size: 150%; text-align: center; border-radius: 50px 15px; padding: 10px; box-shadow: 0 4px 8px 0 rgba(0, 0, 0, 0.2), 0 6px 20px 0 rgba(0, 0, 0, 0.19);\">\n",
    "    ⬇️📖Lead Dataset⬇️</h1>"
   ]
  },
  {
   "cell_type": "code",
   "execution_count": 7,
   "id": "6a9d1cdc",
   "metadata": {
    "execution": {
     "iopub.execute_input": "2024-03-20T18:08:07.339137Z",
     "iopub.status.busy": "2024-03-20T18:08:07.338766Z",
     "iopub.status.idle": "2024-03-20T18:08:08.191555Z",
     "shell.execute_reply": "2024-03-20T18:08:08.190392Z"
    },
    "papermill": {
     "duration": 0.867733,
     "end_time": "2024-03-20T18:08:08.193937",
     "exception": false,
     "start_time": "2024-03-20T18:08:07.326204",
     "status": "completed"
    },
    "tags": []
   },
   "outputs": [],
   "source": [
    "# samp = pd.read_csv('/kaggle/input/playground-series-s4e1/sample_submission.csv')\n",
    "train = pd.read_csv(\"../Data/train.csv\")\n",
    "test = pd.read_csv(\"../Data/test.csv\")\n",
    "main = pd.read_csv('../Data/Churn_Modelling.csv')"
   ]
  },
  {
   "cell_type": "markdown",
   "id": "99a3bb2c",
   "metadata": {
    "papermill": {
     "duration": 0.010941,
     "end_time": "2024-03-20T18:08:08.216602",
     "exception": false,
     "start_time": "2024-03-20T18:08:08.205661",
     "status": "completed"
    },
    "tags": []
   },
   "source": [
    "\n",
    "<h1 style=\"background-color: #12f7ff; font-family: 'Trebuchet MS', sans-serif; color: #000; font-size: 150%; text-align: center; border-radius: 50px 15px; padding: 10px; box-shadow: 0 4px 8px 0 rgba(0, 0, 0, 0.2), 0 6px 20px 0 rgba(0, 0, 0, 0.19);\">\n",
    "    ⬇️📖Data Cleaning⬇️ </h1>"
   ]
  },
  {
   "cell_type": "markdown",
   "id": "3fdc57ad",
   "metadata": {
    "papermill": {
     "duration": 0.010913,
     "end_time": "2024-03-20T18:08:08.238796",
     "exception": false,
     "start_time": "2024-03-20T18:08:08.227883",
     "status": "completed"
    },
    "tags": []
   },
   "source": [
    "### <p style=\"font-family:JetBrains Mono; font-weight:bold; letter-spacing: 2px; font-size:140% ; text-align:center;padding: 0px; border-bottom: 4px solid #003300\">⬇️Removing unnecessary columns⬇️</p>"
   ]
  },
  {
   "cell_type": "code",
   "execution_count": 8,
   "id": "735baf6e",
   "metadata": {
    "execution": {
     "iopub.execute_input": "2024-03-20T18:08:08.318493Z",
     "iopub.status.busy": "2024-03-20T18:08:08.317258Z",
     "iopub.status.idle": "2024-03-20T18:08:08.350545Z",
     "shell.execute_reply": "2024-03-20T18:08:08.349482Z"
    },
    "papermill": {
     "duration": 0.048202,
     "end_time": "2024-03-20T18:08:08.352928",
     "exception": false,
     "start_time": "2024-03-20T18:08:08.304726",
     "status": "completed"
    },
    "tags": []
   },
   "outputs": [],
   "source": [
    "# first we will drop the two columns id and RowNumber,They are just indexes.\n",
    "main.drop('RowNumber', inplace = True, axis = 1)\n",
    "train.drop('id', inplace = True, axis = 1)\n",
    "test.drop('id', inplace = True, axis = 1)"
   ]
  },
  {
   "cell_type": "markdown",
   "id": "7b798b96",
   "metadata": {
    "papermill": {
     "duration": 0.011151,
     "end_time": "2024-03-20T18:08:08.375446",
     "exception": false,
     "start_time": "2024-03-20T18:08:08.364295",
     "status": "completed"
    },
    "tags": []
   },
   "source": [
    "### <p style=\"font-family:JetBrains Mono; font-weight:bold; letter-spacing: 2px; font-size:140% ; text-align:center;padding: 0px; border-bottom: 4px solid #003300\">⬇️Merging the two datasets⬇️</p>"
   ]
  },
  {
   "cell_type": "code",
   "execution_count": 9,
   "id": "22cdb944",
   "metadata": {
    "execution": {
     "iopub.execute_input": "2024-03-20T18:08:08.399194Z",
     "iopub.status.busy": "2024-03-20T18:08:08.398797Z",
     "iopub.status.idle": "2024-03-20T18:08:08.404515Z",
     "shell.execute_reply": "2024-03-20T18:08:08.403368Z"
    },
    "papermill": {
     "duration": 0.02048,
     "end_time": "2024-03-20T18:08:08.406993",
     "exception": false,
     "start_time": "2024-03-20T18:08:08.386513",
     "status": "completed"
    },
    "tags": []
   },
   "outputs": [
    {
     "name": "stdout",
     "output_type": "stream",
     "text": [
      "columns of our df are : \n",
      "['CustomerId', 'Surname', 'CreditScore', 'Geography', 'Gender', 'Age', 'Tenure', 'Balance', 'NumOfProducts', 'HasCrCard', 'IsActiveMember', 'EstimatedSalary', 'Exited']\n",
      "columns of the original df are : \n",
      "['CustomerId', 'Surname', 'CreditScore', 'Geography', 'Gender', 'Age', 'Tenure', 'Balance', 'NumOfProducts', 'HasCrCard', 'IsActiveMember', 'EstimatedSalary', 'Exited']\n",
      "(10002, 13) (165034, 13)\n"
     ]
    }
   ],
   "source": [
    "#let's view if the columns in the original dataset is the same as our train df\n",
    "\n",
    "print(f\"columns of our df are : \\n{list(train.columns)}\")\n",
    "print(f\"columns of the original df are : \\n{list(main.columns)}\")\n",
    "print(main.shape, train.shape)"
   ]
  },
  {
   "cell_type": "code",
   "execution_count": 10,
   "id": "6de30977",
   "metadata": {
    "execution": {
     "iopub.execute_input": "2024-03-20T18:08:08.432532Z",
     "iopub.status.busy": "2024-03-20T18:08:08.431602Z",
     "iopub.status.idle": "2024-03-20T18:08:08.461721Z",
     "shell.execute_reply": "2024-03-20T18:08:08.460718Z"
    },
    "papermill": {
     "duration": 0.045309,
     "end_time": "2024-03-20T18:08:08.464129",
     "exception": false,
     "start_time": "2024-03-20T18:08:08.418820",
     "status": "completed"
    },
    "tags": []
   },
   "outputs": [
    {
     "name": "stdout",
     "output_type": "stream",
     "text": [
      "175036\n",
      "(175036, 13)\n"
     ]
    }
   ],
   "source": [
    "original_train_shape = train.shape[0]\n",
    "main_shape = main.shape[0]\n",
    "\n",
    "train = pd.concat([train, main], axis=0)\n",
    "\n",
    "print(original_train_shape + main_shape)  \n",
    "print(train.shape) \n"
   ]
  },
  {
   "cell_type": "markdown",
   "id": "9779ef30",
   "metadata": {
    "papermill": {
     "duration": 0.011484,
     "end_time": "2024-03-20T18:08:08.487488",
     "exception": false,
     "start_time": "2024-03-20T18:08:08.476004",
     "status": "completed"
    },
    "tags": []
   },
   "source": [
    "### <p style=\"font-family:JetBrains Mono; font-weight:bold; letter-spacing: 2px; font-size:140% ; text-align:center;padding: 0px; border-bottom: 4px solid #003300\">⬇️Missing Values⬇️</p>"
   ]
  },
  {
   "cell_type": "code",
   "execution_count": 11,
   "id": "06595744",
   "metadata": {
    "execution": {
     "iopub.execute_input": "2024-03-20T18:08:08.513612Z",
     "iopub.status.busy": "2024-03-20T18:08:08.512594Z",
     "iopub.status.idle": "2024-03-20T18:08:08.567517Z",
     "shell.execute_reply": "2024-03-20T18:08:08.566612Z"
    },
    "papermill": {
     "duration": 0.070228,
     "end_time": "2024-03-20T18:08:08.569734",
     "exception": false,
     "start_time": "2024-03-20T18:08:08.499506",
     "status": "completed"
    },
    "tags": []
   },
   "outputs": [
    {
     "name": "stdout",
     "output_type": "stream",
     "text": [
      "CustomerId         0\n",
      "Surname            0\n",
      "CreditScore        0\n",
      "Geography          1\n",
      "Gender             0\n",
      "Age                1\n",
      "Tenure             0\n",
      "Balance            0\n",
      "NumOfProducts      0\n",
      "HasCrCard          1\n",
      "IsActiveMember     1\n",
      "EstimatedSalary    0\n",
      "Exited             0\n",
      "dtype: int64\n"
     ]
    },
    {
     "data": {
      "text/plain": [
       "CustomerId         0\n",
       "Surname            0\n",
       "CreditScore        0\n",
       "Geography          0\n",
       "Gender             0\n",
       "Age                0\n",
       "Tenure             0\n",
       "Balance            0\n",
       "NumOfProducts      0\n",
       "HasCrCard          0\n",
       "IsActiveMember     0\n",
       "EstimatedSalary    0\n",
       "dtype: int64"
      ]
     },
     "execution_count": 11,
     "metadata": {},
     "output_type": "execute_result"
    }
   ],
   "source": [
    "print(train.isnull().sum())\n",
    "test.isnull().sum()"
   ]
  },
  {
   "cell_type": "markdown",
   "id": "cb8da5e5",
   "metadata": {
    "papermill": {
     "duration": 0.011506,
     "end_time": "2024-03-20T18:08:08.593162",
     "exception": false,
     "start_time": "2024-03-20T18:08:08.581656",
     "status": "completed"
    },
    "tags": []
   },
   "source": [
    "<div class=\"custom-md\">\n",
    "this will be solved at data pipeline\n",
    " </div>"
   ]
  },
  {
   "cell_type": "markdown",
   "id": "6796aa1e",
   "metadata": {
    "papermill": {
     "duration": 0.011462,
     "end_time": "2024-03-20T18:08:08.616270",
     "exception": false,
     "start_time": "2024-03-20T18:08:08.604808",
     "status": "completed"
    },
    "tags": []
   },
   "source": [
    "### <p style=\"font-family:JetBrains Mono; font-weight:bold; letter-spacing: 2px; font-size:140% ; text-align:center;padding: 0px; border-bottom: 4px solid #003300\">⬇️Duplicated Values⬇️</p>"
   ]
  },
  {
   "cell_type": "code",
   "execution_count": 12,
   "id": "5415473b",
   "metadata": {
    "execution": {
     "iopub.execute_input": "2024-03-20T18:08:08.641828Z",
     "iopub.status.busy": "2024-03-20T18:08:08.640954Z",
     "iopub.status.idle": "2024-03-20T18:08:08.881955Z",
     "shell.execute_reply": "2024-03-20T18:08:08.880937Z"
    },
    "papermill": {
     "duration": 0.256338,
     "end_time": "2024-03-20T18:08:08.884239",
     "exception": false,
     "start_time": "2024-03-20T18:08:08.627901",
     "status": "completed"
    },
    "tags": []
   },
   "outputs": [
    {
     "name": "stdout",
     "output_type": "stream",
     "text": [
      "(175036, 13)\n"
     ]
    },
    {
     "name": "stdout",
     "output_type": "stream",
     "text": [
      "2\n"
     ]
    },
    {
     "data": {
      "text/plain": [
       "(175034, 13)"
      ]
     },
     "execution_count": 12,
     "metadata": {},
     "output_type": "execute_result"
    }
   ],
   "source": [
    "# Remove duplicated rows\n",
    "print(train.shape)\n",
    "print(train.duplicated().sum())\n",
    "train = train.drop_duplicates()\n",
    "train.shape"
   ]
  },
  {
   "cell_type": "markdown",
   "id": "c4aaba9e",
   "metadata": {
    "papermill": {
     "duration": 0.011553,
     "end_time": "2024-03-20T18:08:08.907756",
     "exception": false,
     "start_time": "2024-03-20T18:08:08.896203",
     "status": "completed"
    },
    "tags": []
   },
   "source": [
    "<h1 style=\"background-color: #12f7ff; font-family: 'Trebuchet MS', sans-serif; color: #000; font-size: 150%; text-align: center; border-radius: 50px 15px; padding: 10px; box-shadow: 0 4px 8px 0 rgba(0, 0, 0, 0.2), 0 6px 20px 0 rgba(0, 0, 0, 0.19);\">\n",
    "    🔻Exploring Data Analysis: EDA🔻\n",
    "</h1>\n"
   ]
  },
  {
   "cell_type": "code",
   "execution_count": 13,
   "id": "f96cbf03",
   "metadata": {
    "execution": {
     "iopub.execute_input": "2024-03-20T18:08:08.932855Z",
     "iopub.status.busy": "2024-03-20T18:08:08.932468Z",
     "iopub.status.idle": "2024-03-20T18:08:09.043359Z",
     "shell.execute_reply": "2024-03-20T18:08:09.042399Z"
    },
    "papermill": {
     "duration": 0.126029,
     "end_time": "2024-03-20T18:08:09.045517",
     "exception": false,
     "start_time": "2024-03-20T18:08:08.919488",
     "status": "completed"
    },
    "tags": []
   },
   "outputs": [
    {
     "data": {
      "text/html": [
       "<div>\n",
       "<style scoped>\n",
       "    .dataframe tbody tr th:only-of-type {\n",
       "        vertical-align: middle;\n",
       "    }\n",
       "\n",
       "    .dataframe tbody tr th {\n",
       "        vertical-align: top;\n",
       "    }\n",
       "\n",
       "    .dataframe thead th {\n",
       "        text-align: right;\n",
       "    }\n",
       "</style>\n",
       "<table border=\"1\" class=\"dataframe\">\n",
       "  <thead>\n",
       "    <tr style=\"text-align: right;\">\n",
       "      <th></th>\n",
       "      <th>count</th>\n",
       "      <th>mean</th>\n",
       "      <th>std</th>\n",
       "      <th>min</th>\n",
       "      <th>25%</th>\n",
       "      <th>50%</th>\n",
       "      <th>75%</th>\n",
       "      <th>max</th>\n",
       "    </tr>\n",
       "  </thead>\n",
       "  <tbody>\n",
       "    <tr>\n",
       "      <th>CustomerId</th>\n",
       "      <td>175034.0</td>\n",
       "      <td>1.569194e+07</td>\n",
       "      <td>71428.904538</td>\n",
       "      <td>15565701.00</td>\n",
       "      <td>15632882.00</td>\n",
       "      <td>15690169.00</td>\n",
       "      <td>1.575666e+07</td>\n",
       "      <td>15815690.00</td>\n",
       "    </tr>\n",
       "    <tr>\n",
       "      <th>CreditScore</th>\n",
       "      <td>175034.0</td>\n",
       "      <td>6.561158e+02</td>\n",
       "      <td>81.151171</td>\n",
       "      <td>350.00</td>\n",
       "      <td>597.00</td>\n",
       "      <td>659.00</td>\n",
       "      <td>7.100000e+02</td>\n",
       "      <td>850.00</td>\n",
       "    </tr>\n",
       "    <tr>\n",
       "      <th>Age</th>\n",
       "      <td>175033.0</td>\n",
       "      <td>3.817143e+01</td>\n",
       "      <td>8.969537</td>\n",
       "      <td>18.00</td>\n",
       "      <td>32.00</td>\n",
       "      <td>37.00</td>\n",
       "      <td>4.200000e+01</td>\n",
       "      <td>92.00</td>\n",
       "    </tr>\n",
       "    <tr>\n",
       "      <th>Tenure</th>\n",
       "      <td>175034.0</td>\n",
       "      <td>5.019922e+00</td>\n",
       "      <td>2.811136</td>\n",
       "      <td>0.00</td>\n",
       "      <td>3.00</td>\n",
       "      <td>5.00</td>\n",
       "      <td>7.000000e+00</td>\n",
       "      <td>10.00</td>\n",
       "    </tr>\n",
       "    <tr>\n",
       "      <th>Balance</th>\n",
       "      <td>175034.0</td>\n",
       "      <td>5.667830e+04</td>\n",
       "      <td>62982.565768</td>\n",
       "      <td>0.00</td>\n",
       "      <td>0.00</td>\n",
       "      <td>0.00</td>\n",
       "      <td>1.207293e+05</td>\n",
       "      <td>250898.09</td>\n",
       "    </tr>\n",
       "    <tr>\n",
       "      <th>NumOfProducts</th>\n",
       "      <td>175034.0</td>\n",
       "      <td>1.553070e+00</td>\n",
       "      <td>0.549210</td>\n",
       "      <td>1.00</td>\n",
       "      <td>1.00</td>\n",
       "      <td>2.00</td>\n",
       "      <td>2.000000e+00</td>\n",
       "      <td>4.00</td>\n",
       "    </tr>\n",
       "    <tr>\n",
       "      <th>HasCrCard</th>\n",
       "      <td>175033.0</td>\n",
       "      <td>7.511841e-01</td>\n",
       "      <td>0.432328</td>\n",
       "      <td>0.00</td>\n",
       "      <td>1.00</td>\n",
       "      <td>1.00</td>\n",
       "      <td>1.000000e+00</td>\n",
       "      <td>1.00</td>\n",
       "    </tr>\n",
       "    <tr>\n",
       "      <th>IsActiveMember</th>\n",
       "      <td>175033.0</td>\n",
       "      <td>4.987574e-01</td>\n",
       "      <td>0.500000</td>\n",
       "      <td>0.00</td>\n",
       "      <td>0.00</td>\n",
       "      <td>0.00</td>\n",
       "      <td>1.000000e+00</td>\n",
       "      <td>1.00</td>\n",
       "    </tr>\n",
       "    <tr>\n",
       "      <th>EstimatedSalary</th>\n",
       "      <td>175034.0</td>\n",
       "      <td>1.118616e+05</td>\n",
       "      <td>50815.382991</td>\n",
       "      <td>11.58</td>\n",
       "      <td>73192.37</td>\n",
       "      <td>116969.73</td>\n",
       "      <td>1.547673e+05</td>\n",
       "      <td>199992.48</td>\n",
       "    </tr>\n",
       "    <tr>\n",
       "      <th>Exited</th>\n",
       "      <td>175034.0</td>\n",
       "      <td>2.111475e-01</td>\n",
       "      <td>0.408124</td>\n",
       "      <td>0.00</td>\n",
       "      <td>0.00</td>\n",
       "      <td>0.00</td>\n",
       "      <td>0.000000e+00</td>\n",
       "      <td>1.00</td>\n",
       "    </tr>\n",
       "  </tbody>\n",
       "</table>\n",
       "</div>"
      ],
      "text/plain": [
       "                    count          mean           std          min  \\\n",
       "CustomerId       175034.0  1.569194e+07  71428.904538  15565701.00   \n",
       "CreditScore      175034.0  6.561158e+02     81.151171       350.00   \n",
       "Age              175033.0  3.817143e+01      8.969537        18.00   \n",
       "Tenure           175034.0  5.019922e+00      2.811136         0.00   \n",
       "Balance          175034.0  5.667830e+04  62982.565768         0.00   \n",
       "NumOfProducts    175034.0  1.553070e+00      0.549210         1.00   \n",
       "HasCrCard        175033.0  7.511841e-01      0.432328         0.00   \n",
       "IsActiveMember   175033.0  4.987574e-01      0.500000         0.00   \n",
       "EstimatedSalary  175034.0  1.118616e+05  50815.382991        11.58   \n",
       "Exited           175034.0  2.111475e-01      0.408124         0.00   \n",
       "\n",
       "                         25%          50%           75%          max  \n",
       "CustomerId       15632882.00  15690169.00  1.575666e+07  15815690.00  \n",
       "CreditScore           597.00       659.00  7.100000e+02       850.00  \n",
       "Age                    32.00        37.00  4.200000e+01        92.00  \n",
       "Tenure                  3.00         5.00  7.000000e+00        10.00  \n",
       "Balance                 0.00         0.00  1.207293e+05    250898.09  \n",
       "NumOfProducts           1.00         2.00  2.000000e+00         4.00  \n",
       "HasCrCard               1.00         1.00  1.000000e+00         1.00  \n",
       "IsActiveMember          0.00         0.00  1.000000e+00         1.00  \n",
       "EstimatedSalary     73192.37    116969.73  1.547673e+05    199992.48  \n",
       "Exited                  0.00         0.00  0.000000e+00         1.00  "
      ]
     },
     "execution_count": 13,
     "metadata": {},
     "output_type": "execute_result"
    }
   ],
   "source": [
    "train.describe().T"
   ]
  },
  {
   "cell_type": "markdown",
   "id": "8892adce",
   "metadata": {
    "papermill": {
     "duration": 0.012034,
     "end_time": "2024-03-20T18:08:09.069924",
     "exception": false,
     "start_time": "2024-03-20T18:08:09.057890",
     "status": "completed"
    },
    "tags": []
   },
   "source": [
    "#### **from the table above we can conclude that this dataset nead to scaling because of the wide range and the hight standard deviation in a lot of feature like `Balance` and `EstimatedSalary` features.**"
   ]
  },
  {
   "cell_type": "code",
   "execution_count": 14,
   "id": "37c4b312",
   "metadata": {
    "execution": {
     "iopub.execute_input": "2024-03-20T18:08:09.096176Z",
     "iopub.status.busy": "2024-03-20T18:08:09.095811Z",
     "iopub.status.idle": "2024-03-20T18:08:09.113012Z",
     "shell.execute_reply": "2024-03-20T18:08:09.111944Z"
    },
    "papermill": {
     "duration": 0.032863,
     "end_time": "2024-03-20T18:08:09.115182",
     "exception": false,
     "start_time": "2024-03-20T18:08:09.082319",
     "status": "completed"
    },
    "tags": []
   },
   "outputs": [
    {
     "data": {
      "text/html": [
       "<div>\n",
       "<style scoped>\n",
       "    .dataframe tbody tr th:only-of-type {\n",
       "        vertical-align: middle;\n",
       "    }\n",
       "\n",
       "    .dataframe tbody tr th {\n",
       "        vertical-align: top;\n",
       "    }\n",
       "\n",
       "    .dataframe thead th {\n",
       "        text-align: right;\n",
       "    }\n",
       "</style>\n",
       "<table border=\"1\" class=\"dataframe\">\n",
       "  <thead>\n",
       "    <tr style=\"text-align: right;\">\n",
       "      <th></th>\n",
       "      <th>CustomerId</th>\n",
       "      <th>Surname</th>\n",
       "      <th>CreditScore</th>\n",
       "      <th>Geography</th>\n",
       "      <th>Gender</th>\n",
       "      <th>Age</th>\n",
       "      <th>Tenure</th>\n",
       "      <th>Balance</th>\n",
       "      <th>NumOfProducts</th>\n",
       "      <th>HasCrCard</th>\n",
       "      <th>IsActiveMember</th>\n",
       "      <th>EstimatedSalary</th>\n",
       "      <th>Exited</th>\n",
       "    </tr>\n",
       "  </thead>\n",
       "  <tbody>\n",
       "    <tr>\n",
       "      <th>0</th>\n",
       "      <td>15674932</td>\n",
       "      <td>Okwudilichukwu</td>\n",
       "      <td>668</td>\n",
       "      <td>France</td>\n",
       "      <td>Male</td>\n",
       "      <td>33.0</td>\n",
       "      <td>3</td>\n",
       "      <td>0.00</td>\n",
       "      <td>2</td>\n",
       "      <td>1.0</td>\n",
       "      <td>0.0</td>\n",
       "      <td>181449.97</td>\n",
       "      <td>0</td>\n",
       "    </tr>\n",
       "    <tr>\n",
       "      <th>1</th>\n",
       "      <td>15749177</td>\n",
       "      <td>Okwudiliolisa</td>\n",
       "      <td>627</td>\n",
       "      <td>France</td>\n",
       "      <td>Male</td>\n",
       "      <td>33.0</td>\n",
       "      <td>1</td>\n",
       "      <td>0.00</td>\n",
       "      <td>2</td>\n",
       "      <td>1.0</td>\n",
       "      <td>1.0</td>\n",
       "      <td>49503.50</td>\n",
       "      <td>0</td>\n",
       "    </tr>\n",
       "    <tr>\n",
       "      <th>2</th>\n",
       "      <td>15694510</td>\n",
       "      <td>Hsueh</td>\n",
       "      <td>678</td>\n",
       "      <td>France</td>\n",
       "      <td>Male</td>\n",
       "      <td>40.0</td>\n",
       "      <td>10</td>\n",
       "      <td>0.00</td>\n",
       "      <td>2</td>\n",
       "      <td>1.0</td>\n",
       "      <td>0.0</td>\n",
       "      <td>184866.69</td>\n",
       "      <td>0</td>\n",
       "    </tr>\n",
       "    <tr>\n",
       "      <th>3</th>\n",
       "      <td>15741417</td>\n",
       "      <td>Kao</td>\n",
       "      <td>581</td>\n",
       "      <td>France</td>\n",
       "      <td>Male</td>\n",
       "      <td>34.0</td>\n",
       "      <td>2</td>\n",
       "      <td>148882.54</td>\n",
       "      <td>1</td>\n",
       "      <td>1.0</td>\n",
       "      <td>1.0</td>\n",
       "      <td>84560.88</td>\n",
       "      <td>0</td>\n",
       "    </tr>\n",
       "    <tr>\n",
       "      <th>4</th>\n",
       "      <td>15766172</td>\n",
       "      <td>Chiemenam</td>\n",
       "      <td>716</td>\n",
       "      <td>Spain</td>\n",
       "      <td>Male</td>\n",
       "      <td>33.0</td>\n",
       "      <td>5</td>\n",
       "      <td>0.00</td>\n",
       "      <td>2</td>\n",
       "      <td>1.0</td>\n",
       "      <td>1.0</td>\n",
       "      <td>15068.83</td>\n",
       "      <td>0</td>\n",
       "    </tr>\n",
       "  </tbody>\n",
       "</table>\n",
       "</div>"
      ],
      "text/plain": [
       "   CustomerId         Surname  CreditScore Geography Gender   Age  Tenure  \\\n",
       "0    15674932  Okwudilichukwu          668    France   Male  33.0       3   \n",
       "1    15749177   Okwudiliolisa          627    France   Male  33.0       1   \n",
       "2    15694510           Hsueh          678    France   Male  40.0      10   \n",
       "3    15741417             Kao          581    France   Male  34.0       2   \n",
       "4    15766172       Chiemenam          716     Spain   Male  33.0       5   \n",
       "\n",
       "     Balance  NumOfProducts  HasCrCard  IsActiveMember  EstimatedSalary  \\\n",
       "0       0.00              2        1.0             0.0        181449.97   \n",
       "1       0.00              2        1.0             1.0         49503.50   \n",
       "2       0.00              2        1.0             0.0        184866.69   \n",
       "3  148882.54              1        1.0             1.0         84560.88   \n",
       "4       0.00              2        1.0             1.0         15068.83   \n",
       "\n",
       "   Exited  \n",
       "0       0  \n",
       "1       0  \n",
       "2       0  \n",
       "3       0  \n",
       "4       0  "
      ]
     },
     "execution_count": 14,
     "metadata": {},
     "output_type": "execute_result"
    }
   ],
   "source": [
    "train.head()"
   ]
  },
  {
   "cell_type": "code",
   "execution_count": 15,
   "id": "7205ebbe",
   "metadata": {
    "execution": {
     "iopub.execute_input": "2024-03-20T18:08:09.144083Z",
     "iopub.status.busy": "2024-03-20T18:08:09.142886Z",
     "iopub.status.idle": "2024-03-20T18:08:13.275453Z",
     "shell.execute_reply": "2024-03-20T18:08:13.274586Z"
    },
    "papermill": {
     "duration": 4.150487,
     "end_time": "2024-03-20T18:08:13.278685",
     "exception": false,
     "start_time": "2024-03-20T18:08:09.128198",
     "status": "completed"
    },
    "tags": []
   },
   "outputs": [
    {
     "data": {
      "image/png": "[encoded data removed]",
      "text/plain": [
       "<Figure size 2000x1500 with 16 Axes>"
      ]
     },
     "metadata": {},
     "output_type": "display_data"
    }
   ],
   "source": [
    "# Plotting every feature on the graph \n",
    "# Create a deep copy of train and name it data\n",
    "data = train.copy()\n",
    "\n",
    "label_encoder = LabelEncoder()\n",
    "data['Geography'] = label_encoder.fit_transform(data['Geography'])\n",
    "data['Gender'] = label_encoder.fit_transform(data['Gender'])\n",
    "data['Surname'] = label_encoder.fit_transform(data['Surname'])\n",
    "\n",
    "data.hist(bins=50, figsize=(20,15), legend = True)\n",
    "plt.show()"
   ]
  },
  {
   "cell_type": "code",
   "execution_count": 16,
   "id": "1fe13a40",
   "metadata": {
    "execution": {
     "iopub.execute_input": "2024-03-20T18:08:13.311819Z",
     "iopub.status.busy": "2024-03-20T18:08:13.311228Z",
     "iopub.status.idle": "2024-03-20T18:08:13.345627Z",
     "shell.execute_reply": "2024-03-20T18:08:13.344827Z"
    },
    "papermill": {
     "duration": 0.052971,
     "end_time": "2024-03-20T18:08:13.347509",
     "exception": false,
     "start_time": "2024-03-20T18:08:13.294538",
     "status": "completed"
    },
    "tags": []
   },
   "outputs": [
    {
     "data": {
      "text/plain": [
       "CustomerId         23421\n",
       "Surname             2932\n",
       "CreditScore          460\n",
       "Geography              4\n",
       "Gender                 2\n",
       "Age                   73\n",
       "Tenure                11\n",
       "Balance            30239\n",
       "NumOfProducts          4\n",
       "HasCrCard              2\n",
       "IsActiveMember         2\n",
       "EstimatedSalary    55581\n",
       "Exited                 2\n",
       "dtype: int64"
      ]
     },
     "execution_count": 16,
     "metadata": {},
     "output_type": "execute_result"
    }
   ],
   "source": [
    "data.nunique()"
   ]
  },
  {
   "cell_type": "markdown",
   "id": "108d916a",
   "metadata": {
    "papermill": {
     "duration": 0.015875,
     "end_time": "2024-03-20T18:08:13.379505",
     "exception": false,
     "start_time": "2024-03-20T18:08:13.363630",
     "status": "completed"
    },
    "tags": []
   },
   "source": [
    "### <p style=\"font-family:JetBrains Mono; font-weight:bold; letter-spacing: 2px; font-size:140% ; text-align:center;padding: 0px; border-bottom: 4px solid #003300\">⬇️Correlation⬇️</p>"
   ]
  },
  {
   "cell_type": "code",
   "execution_count": 17,
   "id": "d183dcb4",
   "metadata": {
    "execution": {
     "iopub.execute_input": "2024-03-20T18:08:13.412797Z",
     "iopub.status.busy": "2024-03-20T18:08:13.411896Z",
     "iopub.status.idle": "2024-03-20T18:08:13.416854Z",
     "shell.execute_reply": "2024-03-20T18:08:13.416170Z"
    },
    "papermill": {
     "duration": 0.02356,
     "end_time": "2024-03-20T18:08:13.418845",
     "exception": false,
     "start_time": "2024-03-20T18:08:13.395285",
     "status": "completed"
    },
    "tags": []
   },
   "outputs": [],
   "source": [
    "def corr(data):\n",
    "    # Set up the matplotlib figure\n",
    "    plt.figure(figsize=(12, 10))\n",
    "    # Create a heatmap using Seaborn\n",
    "    sns.heatmap(data, annot=True, cmap='coolwarm', fmt=\".2f\", linewidths=0.5)\n",
    "    # Set the title of the plot\n",
    "    plt.title('Correlation Matrix of Features')\n",
    "    "
   ]
  },
  {
   "cell_type": "code",
   "execution_count": 18,
   "id": "c8a06b6c",
   "metadata": {
    "execution": {
     "iopub.execute_input": "2024-03-20T18:08:13.452552Z",
     "iopub.status.busy": "2024-03-20T18:08:13.451877Z",
     "iopub.status.idle": "2024-03-20T18:08:14.464351Z",
     "shell.execute_reply": "2024-03-20T18:08:14.463069Z"
    },
    "papermill": {
     "duration": 1.033264,
     "end_time": "2024-03-20T18:08:14.467857",
     "exception": false,
     "start_time": "2024-03-20T18:08:13.434593",
     "status": "completed"
    },
    "tags": []
   },
   "outputs": [
    {
     "data": {
      "image/png": "[encoded data removed]",
      "text/plain": [
       "<Figure size 1200x1000 with 2 Axes>"
      ]
     },
     "metadata": {},
     "output_type": "display_data"
    }
   ],
   "source": [
    "# Calculate the correlation matrix\n",
    "corr(data.corr())"
   ]
  },
  {
   "cell_type": "markdown",
   "id": "9ce6b1fe",
   "metadata": {
    "papermill": {
     "duration": 0.018459,
     "end_time": "2024-03-20T18:08:14.505167",
     "exception": false,
     "start_time": "2024-03-20T18:08:14.486708",
     "status": "completed"
    },
    "tags": []
   },
   "source": [
    "### <p style=\"font-family:JetBrains Mono; font-weight:bold; letter-spacing: 2px;font-size:140% ; text-align:center;padding: 0px; border-bottom: 4px solid #003300\">⬇️ Feature Engineering⬇️</p>"
   ]
  },
  {
   "cell_type": "code",
   "execution_count": 19,
   "id": "223d742c",
   "metadata": {
    "execution": {
     "iopub.execute_input": "2024-03-20T18:08:14.543159Z",
     "iopub.status.busy": "2024-03-20T18:08:14.542768Z",
     "iopub.status.idle": "2024-03-20T18:08:14.549093Z",
     "shell.execute_reply": "2024-03-20T18:08:14.547920Z"
    },
    "papermill": {
     "duration": 0.027923,
     "end_time": "2024-03-20T18:08:14.551229",
     "exception": false,
     "start_time": "2024-03-20T18:08:14.523306",
     "status": "completed"
    },
    "tags": []
   },
   "outputs": [],
   "source": [
    "def getFeats(df):\n",
    "    \n",
    "    df['IsSenior'] = df['Age'].apply(lambda x: 1 if x >= 60 else 0)\n",
    "    df['IsActive_by_CreditCard'] = df['HasCrCard'] * df['IsActiveMember']\n",
    "    df['Products_Per_Tenure'] =  df['Tenure'] / df['NumOfProducts']\n",
    "    df['Mem__no__Products'] = df['NumOfProducts'] * df['IsActiveMember']\n",
    "    df['Balance_Salary_Ratio'] = df['Balance'] / df['EstimatedSalary']\n",
    "    df['Balance_Age_Ratio'] = df['Balance'] / df['Age']\n",
    "    return df"
   ]
  },
  {
   "cell_type": "code",
   "execution_count": 20,
   "id": "2f11772d",
   "metadata": {
    "execution": {
     "iopub.execute_input": "2024-03-20T18:08:14.589593Z",
     "iopub.status.busy": "2024-03-20T18:08:14.588832Z",
     "iopub.status.idle": "2024-03-20T18:08:14.660661Z",
     "shell.execute_reply": "2024-03-20T18:08:14.659542Z"
    },
    "papermill": {
     "duration": 0.093752,
     "end_time": "2024-03-20T18:08:14.663206",
     "exception": false,
     "start_time": "2024-03-20T18:08:14.569454",
     "status": "completed"
    },
    "tags": []
   },
   "outputs": [],
   "source": [
    "train['Surname'] = label_encoder.fit_transform(train['Surname'])\n",
    "test['Surname'] = label_encoder.transform(test['Surname'])"
   ]
  },
  {
   "cell_type": "code",
   "execution_count": 21,
   "id": "56bdc55c",
   "metadata": {
    "execution": {
     "iopub.execute_input": "2024-03-20T18:08:14.701742Z",
     "iopub.status.busy": "2024-03-20T18:08:14.701287Z",
     "iopub.status.idle": "2024-03-20T18:08:14.717992Z",
     "shell.execute_reply": "2024-03-20T18:08:14.717174Z"
    },
    "papermill": {
     "duration": 0.038458,
     "end_time": "2024-03-20T18:08:14.720134",
     "exception": false,
     "start_time": "2024-03-20T18:08:14.681676",
     "status": "completed"
    },
    "tags": []
   },
   "outputs": [
    {
     "data": {
      "text/html": [
       "<div>\n",
       "<style scoped>\n",
       "    .dataframe tbody tr th:only-of-type {\n",
       "        vertical-align: middle;\n",
       "    }\n",
       "\n",
       "    .dataframe tbody tr th {\n",
       "        vertical-align: top;\n",
       "    }\n",
       "\n",
       "    .dataframe thead th {\n",
       "        text-align: right;\n",
       "    }\n",
       "</style>\n",
       "<table border=\"1\" class=\"dataframe\">\n",
       "  <thead>\n",
       "    <tr style=\"text-align: right;\">\n",
       "      <th></th>\n",
       "      <th>CustomerId</th>\n",
       "      <th>Surname</th>\n",
       "      <th>CreditScore</th>\n",
       "      <th>Geography</th>\n",
       "      <th>Gender</th>\n",
       "      <th>Age</th>\n",
       "      <th>Tenure</th>\n",
       "      <th>Balance</th>\n",
       "      <th>NumOfProducts</th>\n",
       "      <th>HasCrCard</th>\n",
       "      <th>IsActiveMember</th>\n",
       "      <th>EstimatedSalary</th>\n",
       "      <th>Exited</th>\n",
       "    </tr>\n",
       "  </thead>\n",
       "  <tbody>\n",
       "    <tr>\n",
       "      <th>0</th>\n",
       "      <td>15674932</td>\n",
       "      <td>2023</td>\n",
       "      <td>668</td>\n",
       "      <td>France</td>\n",
       "      <td>Male</td>\n",
       "      <td>33.0</td>\n",
       "      <td>3</td>\n",
       "      <td>0.00</td>\n",
       "      <td>2</td>\n",
       "      <td>1.0</td>\n",
       "      <td>0.0</td>\n",
       "      <td>181449.97</td>\n",
       "      <td>0</td>\n",
       "    </tr>\n",
       "    <tr>\n",
       "      <th>1</th>\n",
       "      <td>15749177</td>\n",
       "      <td>2024</td>\n",
       "      <td>627</td>\n",
       "      <td>France</td>\n",
       "      <td>Male</td>\n",
       "      <td>33.0</td>\n",
       "      <td>1</td>\n",
       "      <td>0.00</td>\n",
       "      <td>2</td>\n",
       "      <td>1.0</td>\n",
       "      <td>1.0</td>\n",
       "      <td>49503.50</td>\n",
       "      <td>0</td>\n",
       "    </tr>\n",
       "    <tr>\n",
       "      <th>2</th>\n",
       "      <td>15694510</td>\n",
       "      <td>1236</td>\n",
       "      <td>678</td>\n",
       "      <td>France</td>\n",
       "      <td>Male</td>\n",
       "      <td>40.0</td>\n",
       "      <td>10</td>\n",
       "      <td>0.00</td>\n",
       "      <td>2</td>\n",
       "      <td>1.0</td>\n",
       "      <td>0.0</td>\n",
       "      <td>184866.69</td>\n",
       "      <td>0</td>\n",
       "    </tr>\n",
       "    <tr>\n",
       "      <th>3</th>\n",
       "      <td>15741417</td>\n",
       "      <td>1362</td>\n",
       "      <td>581</td>\n",
       "      <td>France</td>\n",
       "      <td>Male</td>\n",
       "      <td>34.0</td>\n",
       "      <td>2</td>\n",
       "      <td>148882.54</td>\n",
       "      <td>1</td>\n",
       "      <td>1.0</td>\n",
       "      <td>1.0</td>\n",
       "      <td>84560.88</td>\n",
       "      <td>0</td>\n",
       "    </tr>\n",
       "    <tr>\n",
       "      <th>4</th>\n",
       "      <td>15766172</td>\n",
       "      <td>491</td>\n",
       "      <td>716</td>\n",
       "      <td>Spain</td>\n",
       "      <td>Male</td>\n",
       "      <td>33.0</td>\n",
       "      <td>5</td>\n",
       "      <td>0.00</td>\n",
       "      <td>2</td>\n",
       "      <td>1.0</td>\n",
       "      <td>1.0</td>\n",
       "      <td>15068.83</td>\n",
       "      <td>0</td>\n",
       "    </tr>\n",
       "  </tbody>\n",
       "</table>\n",
       "</div>"
      ],
      "text/plain": [
       "   CustomerId  Surname  CreditScore Geography Gender   Age  Tenure    Balance  \\\n",
       "0    15674932     2023          668    France   Male  33.0       3       0.00   \n",
       "1    15749177     2024          627    France   Male  33.0       1       0.00   \n",
       "2    15694510     1236          678    France   Male  40.0      10       0.00   \n",
       "3    15741417     1362          581    France   Male  34.0       2  148882.54   \n",
       "4    15766172      491          716     Spain   Male  33.0       5       0.00   \n",
       "\n",
       "   NumOfProducts  HasCrCard  IsActiveMember  EstimatedSalary  Exited  \n",
       "0              2        1.0             0.0        181449.97       0  \n",
       "1              2        1.0             1.0         49503.50       0  \n",
       "2              2        1.0             0.0        184866.69       0  \n",
       "3              1        1.0             1.0         84560.88       0  \n",
       "4              2        1.0             1.0         15068.83       0  "
      ]
     },
     "execution_count": 21,
     "metadata": {},
     "output_type": "execute_result"
    }
   ],
   "source": [
    "train.head()"
   ]
  },
  {
   "cell_type": "code",
   "execution_count": 22,
   "id": "2dd83f50",
   "metadata": {
    "execution": {
     "iopub.execute_input": "2024-03-20T18:08:14.759115Z",
     "iopub.status.busy": "2024-03-20T18:08:14.758752Z",
     "iopub.status.idle": "2024-03-20T18:08:14.895742Z",
     "shell.execute_reply": "2024-03-20T18:08:14.894768Z"
    },
    "papermill": {
     "duration": 0.159366,
     "end_time": "2024-03-20T18:08:14.898181",
     "exception": false,
     "start_time": "2024-03-20T18:08:14.738815",
     "status": "completed"
    },
    "tags": []
   },
   "outputs": [],
   "source": [
    "train = getFeats(train)\n",
    "test = getFeats(test)"
   ]
  },
  {
   "cell_type": "markdown",
   "id": "b0bab179",
   "metadata": {
    "papermill": {
     "duration": 0.01799,
     "end_time": "2024-03-20T18:08:14.934751",
     "exception": false,
     "start_time": "2024-03-20T18:08:14.916761",
     "status": "completed"
    },
    "tags": []
   },
   "source": [
    "<h1 style=\"background-color: #12f7ff; font-family: 'Trebuchet MS', sans-serif; color: #000; font-size: 150%; text-align: center; border-radius: 50px 15px; padding: 10px; box-shadow: 0 4px 8px 0 rgba(0, 0, 0, 0.2), 0 6px 20px 0 rgba(0, 0, 0, 0.19);\">\n",
    "    🔻Data Pipeline🔻\n",
    "</h1>\n"
   ]
  },
  {
   "cell_type": "markdown",
   "id": "2ba126d7",
   "metadata": {
    "papermill": {
     "duration": 0.017932,
     "end_time": "2024-03-20T18:08:14.970924",
     "exception": false,
     "start_time": "2024-03-20T18:08:14.952992",
     "status": "completed"
    },
    "tags": []
   },
   "source": [
    "### <p style=\"font-family:JetBrains Mono; font-weight:bold; letter-spacing: 2px; font-size:140% ; text-align:center;padding: 0px; border-bottom: 4px solid #003300\">⬇️Creating X and y⬇️</p>"
   ]
  },
  {
   "cell_type": "code",
   "execution_count": 23,
   "id": "519133c0",
   "metadata": {
    "execution": {
     "iopub.execute_input": "2024-03-20T18:08:15.009643Z",
     "iopub.status.busy": "2024-03-20T18:08:15.009125Z",
     "iopub.status.idle": "2024-03-20T18:08:15.090169Z",
     "shell.execute_reply": "2024-03-20T18:08:15.089110Z"
    },
    "papermill": {
     "duration": 0.103423,
     "end_time": "2024-03-20T18:08:15.092689",
     "exception": false,
     "start_time": "2024-03-20T18:08:14.989266",
     "status": "completed"
    },
    "tags": []
   },
   "outputs": [],
   "source": [
    "X = train.drop('Exited', axis=1)\n",
    "y = train['Exited']\n",
    "\n",
    "# getting list of the numerical and categorical columns\n",
    "num = X.select_dtypes(include=['int64', 'float64']).columns\n",
    "col = X.select_dtypes(include=['object']).columns"
   ]
  },
  {
   "cell_type": "markdown",
   "id": "a6fa3e2c",
   "metadata": {
    "_kg_hide-input": true,
    "papermill": {
     "duration": 0.018483,
     "end_time": "2024-03-20T18:08:15.130199",
     "exception": false,
     "start_time": "2024-03-20T18:08:15.111716",
     "status": "completed"
    },
    "tags": []
   },
   "source": [
    "# <a id = 7.3>Main Pipeline"
   ]
  },
  {
   "cell_type": "markdown",
   "id": "a25d4709",
   "metadata": {
    "papermill": {
     "duration": 0.01828,
     "end_time": "2024-03-20T18:08:15.166825",
     "exception": false,
     "start_time": "2024-03-20T18:08:15.148545",
     "status": "completed"
    },
    "tags": []
   },
   "source": [
    "### <p style=\"font-family:JetBrains Mono; font-weight:bold; letter-spacing: 2px; font-size:140% ; text-align:center;padding: 0px; border-bottom: 4px solid #003300\">⬇️Main Pipeline⬇️</p>"
   ]
  },
  {
   "cell_type": "code",
   "execution_count": 24,
   "id": "46c98e97",
   "metadata": {
    "execution": {
     "iopub.execute_input": "2024-03-20T18:08:15.207996Z",
     "iopub.status.busy": "2024-03-20T18:08:15.207609Z",
     "iopub.status.idle": "2024-03-20T18:08:15.214060Z",
     "shell.execute_reply": "2024-03-20T18:08:15.212836Z"
    },
    "papermill": {
     "duration": 0.029073,
     "end_time": "2024-03-20T18:08:15.216336",
     "exception": false,
     "start_time": "2024-03-20T18:08:15.187263",
     "status": "completed"
    },
    "tags": []
   },
   "outputs": [],
   "source": [
    "# Preprocessing for numerical data: imputation and scaling\n",
    "numerical_transformer = Pipeline(steps=[\n",
    "    ('imputer', SimpleImputer(strategy='median')),\n",
    "    ('scaler', MinMaxScaler())])\n",
    "\n",
    "# Preprocessing for categorical data: imputation and one-hot encoding\n",
    "categorical_transformer = Pipeline(steps=[\n",
    "    ('imputer', SimpleImputer(strategy='most_frequent')),\n",
    "    ('onehot', OneHotEncoder(handle_unknown='ignore'))])\n",
    "\n",
    "preprocessor = ColumnTransformer(\n",
    "    transformers=[\n",
    "        ('num', numerical_transformer, num),\n",
    "        ('cat', categorical_transformer, col)])\n",
    "\n",
    "#preprocessor is the final pipeline, we will using it before the data feds into the ml algo.... using Pipeline"
   ]
  },
  {
   "cell_type": "code",
   "execution_count": 25,
   "id": "d597a412",
   "metadata": {
    "execution": {
     "iopub.execute_input": "2024-03-20T18:08:15.255769Z",
     "iopub.status.busy": "2024-03-20T18:08:15.255317Z",
     "iopub.status.idle": "2024-03-20T18:08:15.338274Z",
     "shell.execute_reply": "2024-03-20T18:08:15.337128Z"
    },
    "papermill": {
     "duration": 0.105654,
     "end_time": "2024-03-20T18:08:15.340678",
     "exception": false,
     "start_time": "2024-03-20T18:08:15.235024",
     "status": "completed"
    },
    "tags": []
   },
   "outputs": [],
   "source": [
    "# Split data into training and test sets\n",
    "X_train, X_test, y_train, y_test = train_test_split(X, y, test_size=0.2, random_state=42)"
   ]
  },
  {
   "cell_type": "markdown",
   "id": "61059805",
   "metadata": {
    "papermill": {
     "duration": 0.018374,
     "end_time": "2024-03-20T18:08:15.377577",
     "exception": false,
     "start_time": "2024-03-20T18:08:15.359203",
     "status": "completed"
    },
    "tags": []
   },
   "source": [
    "<h1 style=\"background-color: #12f7ff; font-family: 'Trebuchet MS', sans-serif; color: #000; font-size: 150%; text-align: center; border-radius: 50px 15px; padding: 10px; box-shadow: 0 4px 8px 0 rgba(0, 0, 0, 0.2), 0 6px 20px 0 rgba(0, 0, 0, 0.19);\">\n",
    "    🔻⚙️Finding and Training Models With Best Hyperparameters🔻\n",
    "</h1>\n"
   ]
  },
  {
   "cell_type": "markdown",
   "id": "a7880610",
   "metadata": {
    "papermill": {
     "duration": 0.017832,
     "end_time": "2024-03-20T18:08:15.414174",
     "exception": false,
     "start_time": "2024-03-20T18:08:15.396342",
     "status": "completed"
    },
    "tags": []
   },
   "source": [
    "\n",
    "    \n",
    "| Technology       | Description |\n",
    "|------------------|-------------|\n",
    "| Optuna           | Optuna is a hyperparameter optimization framework, compatible with machine learning libraries like TensorFlow, PyTorch, Keras, and SKlearn. It's designed to automatically find the best hyperparameters. |\n",
    "| Random Forest    | An ensemble method for classification and regression, Random Forest constructs multiple decision trees at training. For classification, it outputs the class selected by most trees; for regression, it returns the average prediction. |\n",
    "| CatBoost         | Developed by Yandex, CatBoost is an open-source gradient boosting library. It focuses on decision trees for classification and regression tasks, optimizing for speed and accuracy. |\n",
    "| LightGBM         | Created by Microsoft, LightGBM is a lightweight and efficient gradient-boosting framework. It's designed for distributed and high-performance machine learning tasks. |\n",
    "| XGBoost          | eXtreme Gradient Boosting (XGBoost) is widely used for supervised learning tasks. Known for handling large datasets effectively, it excels in various classification and regression tasks. |\n",
    "| Voting Classifier| This model aggregates predictions from multiple machine learning models. It predicts an output class based on the highest probability of chosen class, leveraging the strength of ensemble learning. |\n",
    "    \n"
   ]
  },
  {
   "cell_type": "markdown",
   "id": "4f251eb8",
   "metadata": {
    "papermill": {
     "duration": 0.018048,
     "end_time": "2024-03-20T18:08:15.450397",
     "exception": false,
     "start_time": "2024-03-20T18:08:15.432349",
     "status": "completed"
    },
    "tags": []
   },
   "source": [
    "### <p style=\"font-family:JetBrains Mono; font-weight:bold; letter-spacing: 2px; color:#000; font-size:140% ; text-align:center;padding: 0px; border-bottom: 4px solid #003300\">⬇️Random forest classifier⬇️</p>"
   ]
  },
  {
   "cell_type": "code",
   "execution_count": 26,
   "id": "40af3230",
   "metadata": {
    "execution": {
     "iopub.execute_input": "2024-03-20T18:08:15.488537Z",
     "iopub.status.busy": "2024-03-20T18:08:15.488148Z",
     "iopub.status.idle": "2024-03-20T18:08:15.492978Z",
     "shell.execute_reply": "2024-03-20T18:08:15.492229Z"
    },
    "papermill": {
     "duration": 0.026158,
     "end_time": "2024-03-20T18:08:15.494735",
     "exception": false,
     "start_time": "2024-03-20T18:08:15.468577",
     "status": "completed"
    },
    "tags": []
   },
   "outputs": [],
   "source": [
    "\n",
    "# def objective(trial):\n",
    "#     # Define the hyperparameters to be optimized\n",
    "#     n_estimators = trial.suggest_int('n_estimators', 10, 1000, step=5)\n",
    "#     max_depth = trial.suggest_int('max_depth', 5, 100)\n",
    "#     min_samples_split = trial.suggest_int('min_samples_split', 2, 50)\n",
    "#     min_samples_leaf = trial.suggest_int('min_samples_leaf', 1, 50)\n",
    "#     max_features = trial.suggest_categorical('max_features', ['auto', 'sqrt', 'log2'])\n",
    "#     bootstrap = trial.suggest_categorical('bootstrap', [True, False])\n",
    "#     criterion = trial.suggest_categorical('criterion', ['gini', 'entropy'])\n",
    "    \n",
    "#     # Create a Random Forest model with the specified hyperparameters\n",
    "#     model = RandomForestClassifier(\n",
    "#         n_estimators=n_estimators,\n",
    "#         max_depth=max_depth,\n",
    "#         min_samples_split=min_samples_split,\n",
    "#         min_samples_leaf=min_samples_leaf,\n",
    "#         max_features=max_features,\n",
    "#         bootstrap=bootstrap,\n",
    "#         criterion=criterion,\n",
    "#         random_state=42\n",
    "#     )\n",
    "#     pipeline = Pipeline(steps=[('preprocessor', preprocessor), ('model', model)])\n",
    "#     # Train the model\n",
    "#     pipeline.fit(X_train, y_train)\n",
    "    \n",
    "#     # Make predictions on the test set\n",
    "#     predictions = pipeline.predict_proba(X_test)[:, 1]\n",
    "    \n",
    "#     # Calculate AUC-ROC as the metric to optimize\n",
    "#     auc_roc = roc_auc_score(y_test, predictions)\n",
    "    \n",
    "#     return auc_roc\n",
    "\n",
    "# # Create a study object and optimize the objective function\n",
    "# study = optuna.create_study(direction='maximize')\n",
    "# study.optimize(objective, n_trials=50)\n",
    "\n",
    "# # Get the best hyperparameters\n",
    "# best_params = study.best_params\n",
    "# print(\"Best Hyperparameters:\", best_params)\n"
   ]
  },
  {
   "cell_type": "code",
   "execution_count": null,
   "id": "f3458a5e",
   "metadata": {
    "execution": {
     "iopub.execute_input": "2024-03-20T18:08:15.534513Z",
     "iopub.status.busy": "2024-03-20T18:08:15.533748Z",
     "iopub.status.idle": "2024-03-20T18:11:31.053997Z",
     "shell.execute_reply": "2024-03-20T18:11:31.052955Z"
    },
    "papermill": {
     "duration": 195.560995,
     "end_time": "2024-03-20T18:11:31.074635",
     "exception": false,
     "start_time": "2024-03-20T18:08:15.513640",
     "status": "completed"
    },
    "tags": []
   },
   "outputs": [],
   "source": [
    "# Train the final model with the best hyperparameters on the entire dataset\n",
    "best_model = RandomForestClassifier(**{'n_estimators': 425, 'max_depth': 13, 'min_samples_split': 41, 'min_samples_leaf': 2, \n",
    "                                      'max_features': 'sqrt', 'bootstrap': False, 'criterion': 'entropy', 'random_state': 42})\n",
    "\n",
    "Ran_best = Pipeline(steps=[('preprocessor', preprocessor), ('model', best_model)])\n",
    "    \n",
    "Ran_best.fit(X_train, y_train)\n",
    "\n",
    "predictions = Ran_best.predict_proba(X_test)[:, 1]\n",
    "\n",
    "auc_roc = roc_auc_score(y_test, predictions)\n",
    "    \n",
    "auc_roc"
   ]
  },
  {
   "cell_type": "markdown",
   "id": "f679b520",
   "metadata": {
    "papermill": {
     "duration": 0.018492,
     "end_time": "2024-03-20T18:11:31.111648",
     "exception": false,
     "start_time": "2024-03-20T18:11:31.093156",
     "status": "completed"
    },
    "tags": []
   },
   "source": [
    "### <p style=\"font-family:JetBrains Mono; font-weight:bold; letter-spacing: 2px; color:#000; font-size:140% ; text-align:center;padding: 0px; border-bottom: 4px solid #003300\">⬇️Cat Boost Classifier⬇️</p>"
   ]
  },
  {
   "cell_type": "code",
   "execution_count": 24,
   "id": "3911fa8a",
   "metadata": {
    "execution": {
     "iopub.execute_input": "2024-03-20T18:11:31.151446Z",
     "iopub.status.busy": "2024-03-20T18:11:31.151009Z",
     "iopub.status.idle": "2024-03-20T18:11:31.156187Z",
     "shell.execute_reply": "2024-03-20T18:11:31.155002Z"
    },
    "papermill": {
     "duration": 0.027962,
     "end_time": "2024-03-20T18:11:31.158529",
     "exception": false,
     "start_time": "2024-03-20T18:11:31.130567",
     "status": "completed"
    },
    "tags": []
   },
   "outputs": [],
   "source": [
    "# def objective(trial):\n",
    "#     iterations = trial.suggest_int('iterations', 50, 100, step=10)\n",
    "#     learning_rate = trial.suggest_float('learning_rate', 0.01, 0.5)\n",
    "#     depth = trial.suggest_int('depth', 3, 15)\n",
    "#     l2_leaf_reg = trial.suggest_float('l2_leaf_reg', 1e-3, 1)\n",
    "\n",
    "#     model = CatBoostClassifier(\n",
    "#         iterations=iterations,\n",
    "#         learning_rate=learning_rate,\n",
    "#         depth=depth,\n",
    "#         l2_leaf_reg=l2_leaf_reg,\n",
    "#         random_state=42,\n",
    "#         verbose=0  # Set verbose to 0 to suppress CatBoost output\n",
    "#     )\n",
    "#     pipeline = Pipeline(steps=[('preprocessor', preprocessor), ('model', model)])\n",
    "    \n",
    "#     pipeline.fit(X_train, y_train)\n",
    "#     probabilities = pipeline.predict_proba(X_test)[:, 1]  # Get the probability of the positive class\n",
    "    \n",
    "#     auc_roc = roc_auc_score(y_test, probabilities)\n",
    "    \n",
    "#     return auc_roc\n",
    "\n",
    "# study = optuna.create_study(direction='maximize')\n",
    "# study.optimize(objective, n_trials=1500)\n",
    "\n",
    "# best_params = study.best_params\n",
    "# print(\"Best Hyperparameters (CatBoost):\", best_params)"
   ]
  },
  {
   "cell_type": "code",
   "execution_count": 25,
   "id": "fbc4ce34",
   "metadata": {
    "execution": {
     "iopub.execute_input": "2024-03-20T18:11:31.198709Z",
     "iopub.status.busy": "2024-03-20T18:11:31.197530Z",
     "iopub.status.idle": "2024-03-20T18:11:50.687984Z",
     "shell.execute_reply": "2024-03-20T18:11:50.686965Z"
    },
    "papermill": {
     "duration": 19.512726,
     "end_time": "2024-03-20T18:11:50.690289",
     "exception": false,
     "start_time": "2024-03-20T18:11:31.177563",
     "status": "completed"
    },
    "tags": []
   },
   "outputs": [
    {
     "data": {
      "text/plain": [
       "0.891295569141522"
      ]
     },
     "execution_count": 25,
     "metadata": {},
     "output_type": "execute_result"
    }
   ],
   "source": [
    "# Train the final model with the best hyperparameters on the entire dataset\n",
    "best_model = CatBoostClassifier(**{'iterations': 830, 'learning_rate': 0.08238714339235984, 'depth': 5,\n",
    "                                 'l2_leaf_reg': 0.8106903985997884, 'random_state': 42, 'verbose': 0})\n",
    "\n",
    "Cat_best = Pipeline(steps=[('preprocessor', preprocessor), ('model', best_model)])\n",
    "\n",
    "Cat_best.fit(X_train, y_train)\n",
    "\n",
    "predictions = Cat_best.predict_proba(X_test)[:, 1]\n",
    "\n",
    "auc_roc = roc_auc_score(y_test, predictions)\n",
    "    \n",
    "auc_roc"
   ]
  },
  {
   "cell_type": "markdown",
   "id": "8bee8e24",
   "metadata": {
    "papermill": {
     "duration": 0.018727,
     "end_time": "2024-03-20T18:11:50.728391",
     "exception": false,
     "start_time": "2024-03-20T18:11:50.709664",
     "status": "completed"
    },
    "tags": []
   },
   "source": [
    "### <p style=\"font-family:JetBrains Mono; font-weight:bold; letter-spacing: 2px; color:#000; font-size:140% ; text-align:center;padding: 0px; border-bottom: 4px solid #003300\">⬇️LGBM LIGHT⬇️</p>"
   ]
  },
  {
   "cell_type": "code",
   "execution_count": 26,
   "id": "35ea6ecd",
   "metadata": {
    "execution": {
     "iopub.execute_input": "2024-03-20T18:11:50.768045Z",
     "iopub.status.busy": "2024-03-20T18:11:50.767636Z",
     "iopub.status.idle": "2024-03-20T18:11:50.772531Z",
     "shell.execute_reply": "2024-03-20T18:11:50.771528Z"
    },
    "papermill": {
     "duration": 0.027204,
     "end_time": "2024-03-20T18:11:50.774610",
     "exception": false,
     "start_time": "2024-03-20T18:11:50.747406",
     "status": "completed"
    },
    "tags": []
   },
   "outputs": [],
   "source": [
    "# def objective(trial):\n",
    "#     n_estimators = trial.suggest_int('n_estimators', 50, 1000, step=10)\n",
    "#     learning_rate = trial.suggest_loguniform('learning_rate', 0.01, 0.5)\n",
    "#     max_depth = trial.suggest_int('max_depth', 3, 15)\n",
    "#     min_child_samples = trial.suggest_int('min_child_samples', 1, 20)\n",
    "#     subsample = trial.suggest_float('subsample', 0.5, 1.0)\n",
    "#     colsample_bytree = trial.suggest_float('colsample_bytree', 0.5, 1.0)\n",
    "\n",
    "#     model = LGBMClassifier(\n",
    "#         n_estimators=n_estimators,\n",
    "#         learning_rate=learning_rate,\n",
    "#         max_depth=max_depth,\n",
    "#         min_child_samples=min_child_samples,\n",
    "#         subsample=subsample,\n",
    "#         colsample_bytree=colsample_bytree,\n",
    "#         random_state=42\n",
    "#     )\n",
    "#     pipeline = Pipeline(steps=[('preprocessor', preprocessor), ('model', model)])\n",
    "    \n",
    "#     pipeline.fit(X_train, y_train)\n",
    "#     probabilities = pipeline.predict_proba(X_test)[:, 1]  # Get the probability of the positive class\n",
    "    \n",
    "#     auc_roc = roc_auc_score(y_test, probabilities)\n",
    "    \n",
    "#     return auc_roc\n",
    "\n",
    "# study = optuna.create_study(direction='maximize')\n",
    "# study.optimize(objective, n_trials=1500)\n",
    "\n",
    "# best_params = study.best_params\n",
    "# print(\"Best Hyperparameters (LightGBM):\", best_params)"
   ]
  },
  {
   "cell_type": "code",
   "execution_count": 27,
   "id": "e4d0626b",
   "metadata": {
    "execution": {
     "iopub.execute_input": "2024-03-20T18:11:50.814992Z",
     "iopub.status.busy": "2024-03-20T18:11:50.814605Z",
     "iopub.status.idle": "2024-03-20T18:12:03.595119Z",
     "shell.execute_reply": "2024-03-20T18:12:03.594400Z"
    },
    "papermill": {
     "duration": 12.803612,
     "end_time": "2024-03-20T18:12:03.597144",
     "exception": false,
     "start_time": "2024-03-20T18:11:50.793532",
     "status": "completed"
    },
    "tags": []
   },
   "outputs": [
    {
     "data": {
      "text/plain": [
       "0.8916788985314651"
      ]
     },
     "execution_count": 27,
     "metadata": {},
     "output_type": "execute_result"
    }
   ],
   "source": [
    "# Train the final model with the best hyperparameters on the entire dataset\n",
    "best_model = LGBMClassifier(**{'n_estimators': 960, 'learning_rate': 0.031725771326186744, 'max_depth': 8, 'min_child_samples': 8, \n",
    "                               'subsample': 0.7458307885861184, 'colsample_bytree': 0.5111460378911089, 'random_state': 42})\n",
    "\n",
    "LGBM_best = Pipeline(steps=[('preprocessor', preprocessor), ('model', best_model)])\n",
    "    \n",
    "LGBM_best.fit(X_train, y_train)\n",
    "\n",
    "predictions = LGBM_best.predict_proba(X_test)[:, 1]\n",
    "\n",
    "auc_roc = roc_auc_score(y_test, predictions)\n",
    "    \n",
    "auc_roc"
   ]
  },
  {
   "cell_type": "markdown",
   "id": "120cfa1a",
   "metadata": {
    "papermill": {
     "duration": 0.018822,
     "end_time": "2024-03-20T18:12:03.634809",
     "exception": false,
     "start_time": "2024-03-20T18:12:03.615987",
     "status": "completed"
    },
    "tags": []
   },
   "source": [
    "### <p style=\"font-family:JetBrains Mono; font-weight:bold; letter-spacing: 2px; color:#000; font-size:140% ; text-align:center;padding: 0px; border-bottom: 4px solid #003300\">⬇️XGBoost Classifier⬇️</p>"
   ]
  },
  {
   "cell_type": "code",
   "execution_count": 28,
   "id": "db939dbd",
   "metadata": {
    "execution": {
     "iopub.execute_input": "2024-03-20T18:12:03.674196Z",
     "iopub.status.busy": "2024-03-20T18:12:03.673177Z",
     "iopub.status.idle": "2024-03-20T18:12:03.678313Z",
     "shell.execute_reply": "2024-03-20T18:12:03.677243Z"
    },
    "papermill": {
     "duration": 0.026883,
     "end_time": "2024-03-20T18:12:03.680189",
     "exception": false,
     "start_time": "2024-03-20T18:12:03.653306",
     "status": "completed"
    },
    "tags": []
   },
   "outputs": [],
   "source": [
    "# Don't uncomment to run it this will take more time than you can think and Kaggle allows , above 12 hours\n",
    "\n",
    "# def objective(trial):\n",
    "#     n_estimators = trial.suggest_int('n_estimators', 50, 1000, step=10)\n",
    "#     learning_rate = trial.suggest_loguniform('learning_rate', 0.01, 0.5)\n",
    "#     max_depth = trial.suggest_int('max_depth', 3, 15)\n",
    "#     min_child_weight = trial.suggest_int('min_child_weight', 1, 10)\n",
    "#     gamma = trial.suggest_loguniform('gamma', 1e-3, 1)\n",
    "\n",
    "#     model = XGBClassifier(\n",
    "#         n_estimators=n_estimators,\n",
    "#         learning_rate=learning_rate,\n",
    "#         max_depth=max_depth,\n",
    "#         min_child_weight=min_child_weight,\n",
    "#         gamma=gamma,\n",
    "#         random_state=42\n",
    "#     )\n",
    "#     pipeline = Pipeline(steps=[('preprocessor', preprocessor), ('model', model)])\n",
    "    \n",
    "#     pipeline.fit(X_train, y_train)\n",
    "#     predictions = pipeline.predict_proba(X_test)[:, 1]\n",
    "    \n",
    "#     auc_roc = roc_auc_score(y_test, predictions)\n",
    "    \n",
    "#     return auc_roc\n",
    "\n",
    "# study = optuna.create_study(direction='maximize')\n",
    "# study.optimize(objective, n_trials=1500)\n",
    "\n",
    "# best_params = study.best_params\n",
    "# print(\"Best Hyperparameters (XGBoost):\", best_params)"
   ]
  },
  {
   "cell_type": "code",
   "execution_count": 29,
   "id": "b5c01d9f",
   "metadata": {
    "execution": {
     "iopub.execute_input": "2024-03-20T18:12:03.722101Z",
     "iopub.status.busy": "2024-03-20T18:12:03.720967Z",
     "iopub.status.idle": "2024-03-20T18:12:23.235664Z",
     "shell.execute_reply": "2024-03-20T18:12:23.234689Z"
    },
    "papermill": {
     "duration": 19.537784,
     "end_time": "2024-03-20T18:12:23.237900",
     "exception": false,
     "start_time": "2024-03-20T18:12:03.700116",
     "status": "completed"
    },
    "tags": []
   },
   "outputs": [
    {
     "data": {
      "text/plain": [
       "0.8908003079522036"
      ]
     },
     "execution_count": 29,
     "metadata": {},
     "output_type": "execute_result"
    }
   ],
   "source": [
    "# Train the final model with the best hyperparameters on the entire dataset\n",
    "best_model = XGBClassifier(**{'n_estimators': 810, 'learning_rate': 0.07921079869615913, 'max_depth': 5,\n",
    "                            'min_child_weight': 8, 'gamma': 0.27423983829634263, 'random_state': 42, 'objective': 'binary:logistic',\n",
    "                            'eval_metric': 'auc', 'n_jobs': -1})\n",
    "\n",
    "XGB_best = Pipeline(steps=[('preprocessor', preprocessor), ('model', best_model)])\n",
    "    \n",
    "XGB_best.fit(X_train, y_train)\n",
    "\n",
    "predictions = XGB_best.predict_proba(X_test)[:, 1]\n",
    "\n",
    "auc_roc = roc_auc_score(y_test, predictions)\n",
    "    \n",
    "auc_roc"
   ]
  },
  {
   "cell_type": "markdown",
   "id": "1e086043",
   "metadata": {
    "papermill": {
     "duration": 0.018434,
     "end_time": "2024-03-20T18:12:23.275446",
     "exception": false,
     "start_time": "2024-03-20T18:12:23.257012",
     "status": "completed"
    },
    "tags": []
   },
   "source": [
    "<h1 style=\"background-color: #12f7ff; font-family: 'Trebuchet MS', sans-serif; color: #000; font-size: 150%; text-align: center; border-radius: 50px 15px; padding: 10px; box-shadow: 0 4px 8px 0 rgba(0, 0, 0, 0.2), 0 6px 20px 0 rgba(0, 0, 0, 0.19);\">\n",
    "    🔻👀👁Final Model With Voting🔻\n",
    "</h1>\n"
   ]
  },
  {
   "cell_type": "code",
   "execution_count": null,
   "id": "d94ef320",
   "metadata": {
    "execution": {
     "iopub.execute_input": "2024-03-20T18:12:23.315349Z",
     "iopub.status.busy": "2024-03-20T18:12:23.314468Z",
     "iopub.status.idle": "2024-03-20T18:13:16.036452Z",
     "shell.execute_reply": "2024-03-20T18:13:16.035317Z"
    },
    "papermill": {
     "duration": 52.763726,
     "end_time": "2024-03-20T18:13:16.058370",
     "exception": false,
     "start_time": "2024-03-20T18:12:23.294644",
     "status": "completed"
    },
    "tags": []
   },
   "outputs": [
    {
     "ename": "NameError",
     "evalue": "name 'VotingClassifier' is not defined",
     "output_type": "error",
     "traceback": [
      "\u001b[0;31m---------------------------------------------------------------------------\u001b[0m",
      "\u001b[0;31mNameError\u001b[0m                                 Traceback (most recent call last)",
      "Cell \u001b[0;32mIn[1], line 2\u001b[0m\n\u001b[1;32m      1\u001b[0m \u001b[38;5;66;03m# # Create a VotingClassifier with the three XGBoost models\u001b[39;00m\n\u001b[0;32m----> 2\u001b[0m voting \u001b[38;5;241m=\u001b[39m \u001b[43mVotingClassifier\u001b[49m(estimators\u001b[38;5;241m=\u001b[39m[\n\u001b[1;32m      3\u001b[0m     (\u001b[38;5;124m'\u001b[39m\u001b[38;5;124mModel1\u001b[39m\u001b[38;5;124m'\u001b[39m, LGBM_best),\n\u001b[1;32m      4\u001b[0m     (\u001b[38;5;124m'\u001b[39m\u001b[38;5;124mModel2\u001b[39m\u001b[38;5;124m'\u001b[39m, XGB_best),\n\u001b[1;32m      5\u001b[0m     (\u001b[38;5;124m'\u001b[39m\u001b[38;5;124mModel3\u001b[39m\u001b[38;5;124m'\u001b[39m, Cat_best)\n\u001b[1;32m      6\u001b[0m ], voting\u001b[38;5;241m=\u001b[39m\u001b[38;5;124m'\u001b[39m\u001b[38;5;124msoft\u001b[39m\u001b[38;5;124m'\u001b[39m, weights \u001b[38;5;241m=\u001b[39m [\u001b[38;5;241m0.5\u001b[39m, \u001b[38;5;241m0.3\u001b[39m, \u001b[38;5;241m0.2\u001b[39m])\n\u001b[1;32m      8\u001b[0m voting\u001b[38;5;241m.\u001b[39mfit(X_train, y_train)\n\u001b[1;32m     10\u001b[0m predictions \u001b[38;5;241m=\u001b[39m voting\u001b[38;5;241m.\u001b[39mpredict_proba(X_test)[:, \u001b[38;5;241m1\u001b[39m]\n",
      "\u001b[0;31mNameError\u001b[0m: name 'VotingClassifier' is not defined"
     ]
    }
   ],
   "source": [
    "# # Create a VotingClassifier with the three XGBoost models\n",
    "voting = VotingClassifier(estimators=[\n",
    "    ('Model1', LGBM_best),\n",
    "    ('Model2', XGB_best),\n",
    "    ('Model3', Cat_best)\n",
    "], voting='soft', weights = [0.5, 0.3, 0.2])\n",
    "\n",
    "voting.fit(X_train, y_train)\n",
    "\n",
    "predictions = voting.predict_proba(X_test)[:, 1]\n",
    "predict = voting.predict(X_test)\n",
    "\n",
    "auc_roc = roc_auc_score(y_test, predictions)\n",
    "acuu = accuracy_score(y_test, predict) \n",
    "auc_roc, acuu"
   ]
  },
  {
   "cell_type": "markdown",
   "id": "aea3c257",
   "metadata": {
    "papermill": {
     "duration": 0.018974,
     "end_time": "2024-03-20T18:13:16.097108",
     "exception": false,
     "start_time": "2024-03-20T18:13:16.078134",
     "status": "completed"
    },
    "tags": []
   },
   "source": [
    "# <center> <a id = 10>📊Generate Predictions and Create Submission File"
   ]
  },
  {
   "cell_type": "code",
   "execution_count": 31,
   "id": "ee109757",
   "metadata": {
    "execution": {
     "iopub.execute_input": "2024-03-20T18:13:16.137286Z",
     "iopub.status.busy": "2024-03-20T18:13:16.136878Z",
     "iopub.status.idle": "2024-03-20T18:14:22.313632Z",
     "shell.execute_reply": "2024-03-20T18:14:22.312598Z"
    },
    "papermill": {
     "duration": 66.218771,
     "end_time": "2024-03-20T18:14:22.335178",
     "exception": false,
     "start_time": "2024-03-20T18:13:16.116407",
     "status": "completed"
    },
    "tags": []
   },
   "outputs": [
    {
     "data": {
      "text/html": [
       "<div>\n",
       "<style scoped>\n",
       "    .dataframe tbody tr th:only-of-type {\n",
       "        vertical-align: middle;\n",
       "    }\n",
       "\n",
       "    .dataframe tbody tr th {\n",
       "        vertical-align: top;\n",
       "    }\n",
       "\n",
       "    .dataframe thead th {\n",
       "        text-align: right;\n",
       "    }\n",
       "</style>\n",
       "<table border=\"1\" class=\"dataframe\">\n",
       "  <thead>\n",
       "    <tr style=\"text-align: right;\">\n",
       "      <th></th>\n",
       "      <th>id</th>\n",
       "      <th>Exited</th>\n",
       "    </tr>\n",
       "  </thead>\n",
       "  <tbody>\n",
       "    <tr>\n",
       "      <th>0</th>\n",
       "      <td>165034</td>\n",
       "      <td>0.032602</td>\n",
       "    </tr>\n",
       "    <tr>\n",
       "      <th>1</th>\n",
       "      <td>165035</td>\n",
       "      <td>0.843081</td>\n",
       "    </tr>\n",
       "    <tr>\n",
       "      <th>2</th>\n",
       "      <td>165036</td>\n",
       "      <td>0.020614</td>\n",
       "    </tr>\n",
       "    <tr>\n",
       "      <th>3</th>\n",
       "      <td>165037</td>\n",
       "      <td>0.236477</td>\n",
       "    </tr>\n",
       "    <tr>\n",
       "      <th>4</th>\n",
       "      <td>165038</td>\n",
       "      <td>0.381631</td>\n",
       "    </tr>\n",
       "  </tbody>\n",
       "</table>\n",
       "</div>"
      ],
      "text/plain": [
       "       id    Exited\n",
       "0  165034  0.032602\n",
       "1  165035  0.843081\n",
       "2  165036  0.020614\n",
       "3  165037  0.236477\n",
       "4  165038  0.381631"
      ]
     },
     "execution_count": 31,
     "metadata": {},
     "output_type": "execute_result"
    }
   ],
   "source": [
    "voting.fit(X, y)\n",
    "\n",
    "# Making predictions on the test set\n",
    "pred = voting.predict_proba(test)[:, 1]\n",
    "\n",
    "samp['Exited'] = pred\n",
    "\n",
    "samp.to_csv('sample_submission.csv', index = False)\n",
    "\n",
    "samp.head()"
   ]
  }
 ],
 "metadata": {
  "kaggle": {
   "accelerator": "none",
   "dataSources": [
    {
     "databundleVersionId": 7405009,
     "sourceId": 65711,
     "sourceType": "competition"
    },
    {
     "datasetId": 3191230,
     "sourceId": 5536933,
     "sourceType": "datasetVersion"
    }
   ],
   "dockerImageVersionId": 30635,
   "isGpuEnabled": false,
   "isInternetEnabled": true,
   "language": "python",
   "sourceType": "notebook"
  },
  "kernelspec": {
   "display_name": ".venv",
   "language": "python",
   "name": "python3"
  },
  "language_info": {
   "codemirror_mode": {
    "name": "ipython",
    "version": 3
   },
   "file_extension": ".py",
   "mimetype": "text/x-python",
   "name": "python",
   "nbconvert_exporter": "python",
   "pygments_lexer": "ipython3",
   "version": "3.12.1"
  },
  "papermill": {
   "default_parameters": {},
   "duration": 385.807674,
   "end_time": "2024-03-20T18:14:23.377219",
   "environment_variables": {},
   "exception": null,
   "input_path": "__notebook__.ipynb",
   "output_path": "__notebook__.ipynb",
   "parameters": {},
   "start_time": "2024-03-20T18:07:57.569545",
   "version": "2.4.0"
  }
 },
 "nbformat": 4,
 "nbformat_minor": 5
}
